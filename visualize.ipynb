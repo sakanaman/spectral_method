{
 "cells": [
  {
   "cell_type": "code",
   "execution_count": 1,
   "metadata": {},
   "outputs": [],
   "source": [
    "import pandas as pd\n",
    "import matplotlib.pyplot as plt\n",
    "import seaborn as sns\n",
    "import numpy as np"
   ]
  },
  {
   "cell_type": "code",
   "execution_count": 2,
   "metadata": {},
   "outputs": [
    {
     "data": {
      "text/html": [
       "<div>\n",
       "<style scoped>\n",
       "    .dataframe tbody tr th:only-of-type {\n",
       "        vertical-align: middle;\n",
       "    }\n",
       "\n",
       "    .dataframe tbody tr th {\n",
       "        vertical-align: top;\n",
       "    }\n",
       "\n",
       "    .dataframe thead th {\n",
       "        text-align: right;\n",
       "    }\n",
       "</style>\n",
       "<table border=\"1\" class=\"dataframe\">\n",
       "  <thead>\n",
       "    <tr style=\"text-align: right;\">\n",
       "      <th></th>\n",
       "      <th>height</th>\n",
       "      <th>width</th>\n",
       "      <th>dimX</th>\n",
       "      <th>dimY</th>\n",
       "      <th>iter_num</th>\n",
       "      <th>dt</th>\n",
       "      <th>time_span</th>\n",
       "      <th>nu</th>\n",
       "    </tr>\n",
       "  </thead>\n",
       "  <tbody>\n",
       "    <tr>\n",
       "      <th>0</th>\n",
       "      <td>6.28319</td>\n",
       "      <td>6.28319</td>\n",
       "      <td>256</td>\n",
       "      <td>256</td>\n",
       "      <td>1629</td>\n",
       "      <td>0.006136</td>\n",
       "      <td>16</td>\n",
       "      <td>0.0005</td>\n",
       "    </tr>\n",
       "  </tbody>\n",
       "</table>\n",
       "</div>"
      ],
      "text/plain": [
       "    height    width  dimX  dimY  iter_num        dt  time_span      nu\n",
       "0  6.28319  6.28319   256   256      1629  0.006136         16  0.0005"
      ]
     },
     "execution_count": 2,
     "metadata": {},
     "output_type": "execute_result"
    }
   ],
   "source": [
    "file_dir = \"result\"\n",
    "df_situation = pd.read_csv(file_dir + \"/situation.csv\", index_col=0).reset_index(drop=True)\n",
    "df_situation"
   ]
  },
  {
   "cell_type": "code",
   "execution_count": 3,
   "metadata": {},
   "outputs": [],
   "source": [
    "height = df_situation[\"height\"][0]\n",
    "width = df_situation[\"width\"][0]\n",
    "dimX = df_situation[\"dimX\"][0]\n",
    "dimY = df_situation[\"dimY\"][0]\n",
    "dx = width/dimX\n",
    "dy = height/dimY\n",
    "iter_num = df_situation[\"iter_num\"][0]\n",
    "dt = df_situation[\"dt\"][0]\n",
    "time_span = df_situation[\"time_span\"][0]\n",
    "nu = df_situation[\"nu\"][0]\n",
    "num_frame = int(iter_num/time_span) + 1"
   ]
  },
  {
   "cell_type": "markdown",
   "metadata": {},
   "source": [
    "# Movie"
   ]
  },
  {
   "cell_type": "code",
   "execution_count": 4,
   "metadata": {},
   "outputs": [],
   "source": [
    "import matplotlib.animation as animation"
   ]
  },
  {
   "cell_type": "code",
   "execution_count": 5,
   "metadata": {},
   "outputs": [],
   "source": [
    "def update(i, ax_stream, XG, YG):\n",
    "    print(f\"frame: {i}\")\n",
    "    df = pd.read_csv(file_dir + f\"/omega{i}.csv\", index_col=0)\n",
    "    df = df.transpose() # In default, indices are x-axis and columns are y-axis\n",
    "    df = df.iloc[::-1]\n",
    "\n",
    "    ax_stream.clear()\n",
    "\n",
    "    im = ax_stream.contour(XG, YG, df.values,colors='black', zorder=0, linewidths=0.9, levels = np.linspace(np.min(df.values), np.max(df.values), 10))\n",
    "    ax_stream.set_title(\"Re = 2000, t = {:.3f}\".format(dt * i * time_span))\n"
   ]
  },
  {
   "cell_type": "code",
   "execution_count": 6,
   "metadata": {},
   "outputs": [
    {
     "name": "stderr",
     "output_type": "stream",
     "text": [
      "MovieWriter ffmpeg unavailable; using Pillow instead.\n"
     ]
    },
    {
     "name": "stdout",
     "output_type": "stream",
     "text": [
      "frame: 0\n",
      "frame: 0\n",
      "frame: 1\n",
      "frame: 2\n",
      "frame: 3\n",
      "frame: 4\n",
      "frame: 5\n",
      "frame: 6\n",
      "frame: 7\n",
      "frame: 8\n",
      "frame: 9\n",
      "frame: 10\n",
      "frame: 11\n",
      "frame: 12\n",
      "frame: 13\n",
      "frame: 14\n",
      "frame: 15\n",
      "frame: 16\n",
      "frame: 17\n",
      "frame: 18\n",
      "frame: 19\n",
      "frame: 20\n",
      "frame: 21\n",
      "frame: 22\n",
      "frame: 23\n",
      "frame: 24\n",
      "frame: 25\n",
      "frame: 26\n",
      "frame: 27\n",
      "frame: 28\n",
      "frame: 29\n",
      "frame: 30\n",
      "frame: 31\n",
      "frame: 32\n",
      "frame: 33\n",
      "frame: 34\n",
      "frame: 35\n",
      "frame: 36\n",
      "frame: 37\n",
      "frame: 38\n",
      "frame: 39\n",
      "frame: 40\n",
      "frame: 41\n",
      "frame: 42\n",
      "frame: 43\n",
      "frame: 44\n",
      "frame: 45\n",
      "frame: 46\n",
      "frame: 47\n",
      "frame: 48\n",
      "frame: 49\n",
      "frame: 50\n",
      "frame: 51\n",
      "frame: 52\n",
      "frame: 53\n",
      "frame: 54\n",
      "frame: 55\n",
      "frame: 56\n",
      "frame: 57\n",
      "frame: 58\n",
      "frame: 59\n",
      "frame: 60\n",
      "frame: 61\n",
      "frame: 62\n",
      "frame: 63\n",
      "frame: 64\n",
      "frame: 65\n",
      "frame: 66\n",
      "frame: 67\n",
      "frame: 68\n",
      "frame: 69\n",
      "frame: 70\n",
      "frame: 71\n",
      "frame: 72\n",
      "frame: 73\n",
      "frame: 74\n",
      "frame: 75\n",
      "frame: 76\n",
      "frame: 77\n",
      "frame: 78\n",
      "frame: 79\n",
      "frame: 80\n",
      "frame: 81\n",
      "frame: 82\n",
      "frame: 83\n",
      "frame: 84\n",
      "frame: 85\n",
      "frame: 86\n",
      "frame: 87\n",
      "frame: 88\n",
      "frame: 89\n",
      "frame: 90\n",
      "frame: 91\n",
      "frame: 92\n",
      "frame: 93\n",
      "frame: 94\n",
      "frame: 95\n",
      "frame: 96\n",
      "frame: 97\n",
      "frame: 98\n",
      "frame: 99\n",
      "frame: 100\n",
      "frame: 101\n"
     ]
    },
    {
     "data": {
      "image/png": "[encoded data removed]",
      "text/plain": [
       "<Figure size 720x720 with 1 Axes>"
      ]
     },
     "metadata": {
      "needs_background": "light"
     },
     "output_type": "display_data"
    }
   ],
   "source": [
    "fig,ax_stream = plt.subplots(figsize=(10,10))\n",
    "xgrid = np.linspace(0,dx*(dimX-1),num=dimX)\n",
    "ygrid = np.linspace(0,dy*(dimY-1),num=dimY)\n",
    "ygrid = ygrid[::-1]\n",
    "XG,YG = np.meshgrid(xgrid, ygrid)\n",
    "\n",
    "ani = animation.FuncAnimation(fig, update,frames = num_frame, interval = 1, fargs=(ax_stream, XG, YG))\n",
    "ani.save(\"vortex.gif\")"
   ]
  }
 ],
 "metadata": {
  "kernelspec": {
   "display_name": "Python 3.8.10 64-bit",
   "language": "python",
   "name": "python3"
  },
  "language_info": {
   "codemirror_mode": {
    "name": "ipython",
    "version": 3
   },
   "file_extension": ".py",
   "mimetype": "text/x-python",
   "name": "python",
   "nbconvert_exporter": "python",
   "pygments_lexer": "ipython3",
   "version": "3.8.10"
  },
  "orig_nbformat": 4,
  "vscode": {
   "interpreter": {
    "hash": "916dbcbb3f70747c44a77c7bcd40155683ae19c65e1c03b4aa3499c5328201f1"
   }
  }
 },
 "nbformat": 4,
 "nbformat_minor": 2
}
